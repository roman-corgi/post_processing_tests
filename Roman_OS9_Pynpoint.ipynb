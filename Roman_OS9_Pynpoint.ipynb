{
 "cells": [
  {
   "cell_type": "markdown",
   "metadata": {},
   "source": [
    "# First example"
   ]
  },
  {
   "cell_type": "markdown",
   "metadata": {},
   "source": [
    "## Introduction"
   ]
  },
  {
   "cell_type": "markdown",
   "metadata": {},
   "source": [
    "This is based on the PynPoint \"first_example.ipynb\" found under tutorials"
   ]
  },
  {
   "cell_type": "markdown",
   "metadata": {},
   "source": [
    "## Getting started"
   ]
  },
  {
   "cell_type": "markdown",
   "metadata": {},
   "source": [
    "We start by importing the required Python modules for this tutorial."
   ]
  },
  {
   "cell_type": "code",
   "execution_count": 1,
   "metadata": {},
   "outputs": [],
   "source": [
    "from IPython.core.display import display, HTML\n",
    "display(HTML(\"<style>.container { width:101% !important; }</style>\"))\n",
    "import numpy as np"
   ]
  },
  {
   "cell_type": "code",
   "execution_count": 2,
   "metadata": {},
   "outputs": [],
   "source": [
    "import os\n",
    "import urllib\n",
    "import matplotlib.pyplot as plt"
   ]
  },
  {
   "cell_type": "markdown",
   "metadata": {},
   "source": [
    "And also the pipeline and pipeline modules of PynPoint."
   ]
  },
  {
   "cell_type": "code",
   "execution_count": 3,
   "metadata": {},
   "outputs": [],
   "source": [
    "from pynpoint import Pypeline, Hdf5ReadingModule, PSFpreparationModule, PcaPsfSubtractionModule, ExampleModule"
   ]
  },
  {
   "cell_type": "raw",
   "metadata": {},
   "source": [
    "Next, we download the preprocessed data. The dataset is stored in an HDF5 database. The parallactic angles and pixel scale are stored as attributes of the dataset."
   ]
  },
  {
   "cell_type": "raw",
   "metadata": {},
   "source": [
    "urllib.request.urlretrieve('https://home.strw.leidenuniv.nl/~stolker/pynpoint/betapic_naco_mp.hdf5',\n",
    "                           './betapic_naco_mp.hdf5')"
   ]
  },
  {
   "cell_type": "code",
   "execution_count": 4,
   "metadata": {
    "scrolled": true
   },
   "outputs": [
    {
     "name": "stdout",
     "output_type": "stream",
     "text": [
      "f.keys()         :  <KeysViewHDF5 ['header_stack', 'stack', 'stackr', 'summaryT']>\n",
      "f.values()       :  ValuesViewHDF5(<HDF5 file \"muf_os9_ccd_images_with_planets2.hdf5\" (mode r)>)\n",
      "dsn              : header_stack\n",
      "dsn              : stack\n",
      "dsn              : stackr\n",
      "dsn              : summaryT\n"
     ]
    }
   ],
   "source": [
    "#hack\n",
    "import h5py as h5\n",
    "incomingFN = \"muf_os9_ccd_images_with_planets.hdf5\" # unprocessed\n",
    "incomingFN = \"muf_os9_ccd_images_with_planets2.hdf5\" # unprocessed data that was photon-reduced and normalized\n",
    "# incomingFN = \"processed_os9_targandref.hdf5\" # works for ADI and RDI, depending on the PARANG supplied\n",
    "\n",
    "f=h5.File(\"./\"+incomingFN,\"r\") # f = file-object\n",
    "print(\"f.keys()         : \", f.keys())\n",
    "print(\"f.values()       : \", f.values())\n",
    "datasetnames = [dsn for dsn in f.keys()]\n",
    "for dsn in datasetnames:\n",
    "    print(\"dsn              :\", dsn)\n",
    "header_stack_var = f[\"header_stack\"]\n",
    "stack_var        = f[\"stack\"]\n",
    "stackr_var       = f[\"stackr\"] # ref\n",
    "summaryT_var     = f[\"summaryT\"]\n"
   ]
  },
  {
   "cell_type": "code",
   "execution_count": 5,
   "metadata": {},
   "outputs": [
    {
     "name": "stdout",
     "output_type": "stream",
     "text": [
      "g.keys()   :  <KeysViewHDF5 ['PARANG']>\n"
     ]
    }
   ],
   "source": [
    "# Get the group that lives under header-stack\n",
    "g = f.require_group(\"header_stack\") # g = group-object\n",
    "print(\"g.keys()   : \", g.keys())"
   ]
  },
  {
   "cell_type": "code",
   "execution_count": 6,
   "metadata": {},
   "outputs": [
    {
     "name": "stdout",
     "output_type": "stream",
     "text": [
      "len(parang_var) :  12\n",
      "000000-22-22-22-22-22-22"
     ]
    }
   ],
   "source": [
    "# Get the array that has the position angles\n",
    "parang_var = g[\"PARANG\"]\n",
    "print(\"len(parang_var) : \", len(parang_var))\n",
    "for pa in parang_var:\n",
    "    print(pa, end=\"\")"
   ]
  },
  {
   "cell_type": "code",
   "execution_count": 7,
   "metadata": {},
   "outputs": [
    {
     "name": "stdout",
     "output_type": "stream",
     "text": [
      "     0     59     60      0      1     60\n",
      "    60   1079   1020    -11      2      5\n",
      "  1080   2339   1260     11      3      5\n",
      "  2340   3599   1260    -11      4      5\n",
      "  3600   4859   1260     11      5      5\n",
      "  4860   4924     65      0      6     60\n",
      "\n",
      "  4925   4984     60      0      7     60\n",
      "  4985   6004   1020     11      8      5\n",
      "  6005   7264   1260    -11      9      5\n",
      "  7265   8524   1260     11     10      5\n",
      "  8525   9784   1260    -11     11      5\n",
      "  9785   9849     65      0     12     60\n",
      "\n",
      "  9850   9909     60      0     13     60\n",
      "  9910  10929   1020    -11     14      5\n",
      " 10930  12189   1260     11     15      5\n",
      " 12190  13449   1260    -11     16      5\n",
      " 13450  14709   1260     11     17      5\n",
      " 14710  14734     25      0     18     60\n",
      "\n"
     ]
    }
   ],
   "source": [
    "# Get the summaryT Summary Table\n",
    "for rec in summaryT_var:\n",
    "    strtii=rec[0]\n",
    "    end_ii=rec[1]\n",
    "    numfrm=rec[2]\n",
    "    star  =rec[3]\n",
    "    visit =rec[4]\n",
    "    exptim=rec[5]\n",
    "    print(\"{:6}\".format(strtii),\"{:6}\".format(end_ii),\"{:6}\".format(numfrm),\"{:6}\".format(star),\"{:6}\".format(visit),\"{:6}\".format(exptim))\n",
    "    if visit%6==0:print()    "
   ]
  },
  {
   "cell_type": "code",
   "execution_count": 8,
   "metadata": {},
   "outputs": [
    {
     "name": "stdout",
     "output_type": "stream",
     "text": [
      "len ( parang_var ) :  12\n"
     ]
    }
   ],
   "source": [
    "# This was tracking _changes_ from one roll angle back to the other.\n",
    "print(\"len ( parang_var ) : \", len ( parang_var ))\n",
    "for ii in range ( len ( parang_var ) ):\n",
    "#     print(\"ii\", ii, parang_var[ii]) # Keep display-all\n",
    "    if ii > 0 and parang_var[ii] * parang_var[ii-1] < 0:\n",
    "        print(\"ii-1\", \"{:5d}\".format(ii-1), \"{:5d}\".format(parang_var[ii-1] ))\n",
    "        print(\"ii  \", \"{:5d}\".format(ii  ), \"{:5d}\".format(parang_var[ii]   ))\n",
    "        print()"
   ]
  },
  {
   "cell_type": "code",
   "execution_count": 9,
   "metadata": {},
   "outputs": [
    {
     "name": "stdout",
     "output_type": "stream",
     "text": [
      "header_stack_var :  <HDF5 group \"/header_stack\" (1 members)>\n",
      "each             :  PARANG\n"
     ]
    }
   ],
   "source": [
    "print(\"header_stack_var : \", header_stack_var)\n",
    "for each in header_stack_var:\n",
    "    print(\"each             : \", each)"
   ]
  },
  {
   "cell_type": "code",
   "execution_count": 10,
   "metadata": {},
   "outputs": [
    {
     "name": "stdout",
     "output_type": "stream",
     "text": [
      "stack_var           :  <HDF5 dataset \"stack\": shape (12, 67, 67), type \"<f4\">\n",
      "stack_var.shape     :  (12, 67, 67)\n",
      "stackr_var          :  <HDF5 dataset \"stackr\": shape (6, 67, 67), type \"<f4\">\n",
      "stackr_var.shape    :  (6, 67, 67)\n",
      "summaryT_var        :  <HDF5 dataset \"summaryT\": shape (18, 6), type \"<i8\">\n",
      "summaryT_var.shape  :  (18, 6)\n",
      "\n",
      "0 1.3844775e-09\n",
      "1 2.3085352e-10\n",
      "2 4.2563678e-10\n",
      "3 5.242306e-10\n",
      "4 4.4059676e-09\n",
      "5 -1.8516401e-10\n",
      "6 2.2051345e-09\n",
      "7 -4.2082715e-10\n",
      "8 2.5015674e-09\n",
      "9 8.7532087e-10\n",
      "10 1.2721006e-09\n",
      "11 -8.584876e-10\n"
     ]
    }
   ],
   "source": [
    "print(\"stack_var           : \", stack_var)\n",
    "print(\"stack_var.shape     : \", stack_var.shape)\n",
    "print(\"stackr_var          : \", stackr_var)\n",
    "print(\"stackr_var.shape    : \", stackr_var.shape)\n",
    "print(\"summaryT_var        : \", summaryT_var)\n",
    "print(\"summaryT_var.shape  : \", summaryT_var.shape)\n",
    "# Make sure this matches the shape discovered above for the OS9 data: \"HDUL[0].shape :  (14735, 67, 67)\"\n",
    "print()\n",
    "\n",
    "\n",
    "\"\"\"Sanity check of first values from EVERY frame \"\"\"\n",
    "for fk in range ( len ( stack_var ) ) :\n",
    "    print(fk,stack_var[fk][0][0])"
   ]
  },
  {
   "cell_type": "code",
   "execution_count": 11,
   "metadata": {},
   "outputs": [],
   "source": [
    "# assert False"
   ]
  },
  {
   "cell_type": "markdown",
   "metadata": {},
   "source": [
    "## Initiating the Pypeline"
   ]
  },
  {
   "cell_type": "markdown",
   "metadata": {},
   "source": [
    "We will now initiate PynPoint by creating an instance of the [Pypeline](https://pynpoint.readthedocs.io/en/latest/pynpoint.core.html?highlight=Pypeline#pynpoint.core.pypeline.Pypeline) class. The object requires the paths of the working folder, input folder and output folder. Here we simply use the current folder for all three of them."
   ]
  },
  {
   "cell_type": "code",
   "execution_count": 12,
   "metadata": {},
   "outputs": [
    {
     "name": "stdout",
     "output_type": "stream",
     "text": [
      "===============\n",
      "PynPoint v0.9.0\n",
      "===============\n",
      "\n",
      "A new version (0.10.0) is available!\n",
      "\n",
      "Want to stay informed about updates, bug fixes, and new features?\n",
      "Please consider using the 'Watch' button on the Github page:\n",
      "https://github.com/PynPoint/PynPoint\n",
      "\n",
      "Database: ./PynPoint_database.hdf5\n",
      "Configuration: ./PynPoint_config.ini\n",
      "\n",
      "Number of CPUs: 16\n",
      "Number of threads: not set\n"
     ]
    }
   ],
   "source": [
    "pipeline = Pypeline(working_place_in='./',\n",
    "                    input_place_in='./',\n",
    "                    output_place_in='./')"
   ]
  },
  {
   "cell_type": "markdown",
   "metadata": {},
   "source": [
    "A configuration file with default values has been created in the working folder. Next, we will add three pipeline modules to the `Pypeline` object."
   ]
  },
  {
   "cell_type": "markdown",
   "metadata": {},
   "source": [
    "## PSF subtraction with PCA"
   ]
  },
  {
   "cell_type": "markdown",
   "metadata": {},
   "source": [
    "We start with the [Hdf5ReadingModule](https://pynpoint.readthedocs.io/en/latest/pynpoint.readwrite.html#pynpoint.readwrite.hdf5reading.Hdf5ReadingModule) which will import the preprocessed data from the HDF5 file that was downloaded into the current database. The instance of the `Hdf5ReadingModule` class is added to the `Pypeline` with the [add_module](https://pynpoint.readthedocs.io/en/latest/pynpoint.core.html?highlight=add_module#pynpoint.core.pypeline.Pypeline.add_module) method. The dataset that we need to import has the tag *stack* so we specify this name as input and output in the dictionary of `tag_dictionary`."
   ]
  },
  {
   "cell_type": "code",
   "execution_count": 13,
   "metadata": {},
   "outputs": [],
   "source": [
    "module = Hdf5ReadingModule(name_in='read',\n",
    "                           input_filename=incomingFN,\n",
    "                           input_dir=None,\n",
    "                           tag_dictionary={'stack': 'stack', \n",
    "                                           'stackr': 'stackr', \n",
    "                                           'summaryT': 'summaryT'}\n",
    "                          )\n",
    "pipeline.add_module(module)"
   ]
  },
  {
   "cell_type": "code",
   "execution_count": 14,
   "metadata": {},
   "outputs": [
    {
     "name": "stdout",
     "output_type": "stream",
     "text": [
      "name_in       :  prep_name\n",
      "image_in_tag  :  stack\n",
      "image_out_tag :  prep\n"
     ]
    }
   ],
   "source": [
    "module = PSFpreparationModule(\n",
    "    name_in='prep_name',\n",
    "    image_in_tag='stack',\n",
    "    image_out_tag='prep',\n",
    "    mask_out_tag=None,\n",
    "    norm=False,\n",
    "    resize=None,\n",
    "    # cent_size=0.15, # Beta Pic only \"Radius of the central mask (in arcsec).\"\n",
    "    # edge_size=1.1   # Beta Pic only\n",
    "    cent_size=2, # OS9 only\n",
    "    edge_size=16 # OS9 only\n",
    "    # cent_size=None, # OS9 only\n",
    "    # edge_size=None # OS9 only\n",
    ")\n",
    "pipeline.add_module(module)"
   ]
  },
  {
   "cell_type": "raw",
   "metadata": {},
   "source": [
    "The last pipeline module that we use is [PcaPsfSubtractionModule](https://pynpoint.readthedocs.io/en/latest/pynpoint.processing.html?highlight=pcapsf#pynpoint.processing.psfsubtraction.PcaPsfSubtractionModule). This module will run the PSF subtraction with PCA. Here we chose to subtract 20 principal components and store the median-collapsed residuals at the database tag *residuals*."
   ]
  },
  {
   "cell_type": "code",
   "execution_count": 15,
   "metadata": {},
   "outputs": [],
   "source": [
    "mode = 1\n",
    "if mode == 0 : # ADI\n",
    "    module = PcaPsfSubtractionModule(pca_numbers=[1, ],\n",
    "        name_in='pca',\n",
    "        images_in_tag='prep',\n",
    "        reference_in_tag='prep',\n",
    "        res_median_tag='residuals'\n",
    "        )\n",
    "if mode == 1 : # RDI\n",
    "    module = PcaPsfSubtractionModule(pca_numbers=[1, ],\n",
    "        name_in='pca',\n",
    "        images_in_tag='prep',\n",
    "        reference_in_tag='stackr',                            \n",
    "        res_median_tag='residuals',\n",
    "        subtract_mean=False\n",
    "        )\n",
    "\n",
    "pipeline.add_module(module)"
   ]
  },
  {
   "cell_type": "markdown",
   "metadata": {},
   "source": [
    "We can now run the three pipeline modules that were added toe the `Pypeline` with the [run](https://pynpoint.readthedocs.io/en/latest/pynpoint.core.html?highlight=Pypeline#pynpoint.core.pypeline.Pypeline.run) method."
   ]
  },
  {
   "cell_type": "code",
   "execution_count": 16,
   "metadata": {
    "scrolled": false
   },
   "outputs": [
    {
     "name": "stdout",
     "output_type": "stream",
     "text": [
      "\n",
      "-----------------\n",
      "Hdf5ReadingModule\n",
      "-----------------\n",
      "\n",
      "Module name: read\n",
      "Reading HDF5 file... [DONE]                      \n",
      "Output ports: stack (12, 67, 67), stackr (6, 67, 67), summaryT (18, 6)\n",
      "\n",
      "--------------------\n",
      "PSFpreparationModule\n",
      "--------------------\n",
      "\n",
      "Module name: prep_name\n",
      "Input port: stack (12, 67, 67)\n",
      "Deleting data and attributes: prep\n",
      "Preparing images for PSF subtraction... [DONE]                      \n",
      "Output port: prep (12, 67, 67)\n",
      "\n",
      "-----------------------\n",
      "PcaPsfSubtractionModule\n",
      "-----------------------\n",
      "\n",
      "Module name: pca\n",
      "Input ports: stackr (6, 67, 67), prep (12, 67, 67)\n",
      "Deleting data and attributes: residuals\n",
      "Input parameters:\n",
      "   - Post-processing type: ADI\n",
      "   - Number of principal components: [1]\n",
      "   - Subtract mean: False\n",
      "   - Extra rotation (deg): 0.0\n",
      "Constructing PSF model... [DONE]\n",
      "Creating residuals\n",
      "\n",
      "TESTDIAG len(parang) :  12\n",
      "TESTDIAG parang :  [ 0.  0.  0.  0.  0.  0. 22. 22. 22. 22. 22. 22.] \n",
      "\n",
      "\n",
      ". [DONE]\n",
      "Output port: residuals (1, 67, 67)\n"
     ]
    }
   ],
   "source": [
    "pipeline.run()"
   ]
  },
  {
   "cell_type": "markdown",
   "metadata": {},
   "source": [
    "## Accessing results in the database"
   ]
  },
  {
   "cell_type": "markdown",
   "metadata": {},
   "source": [
    "The `Pypeline` has [several methods](https://pynpoint.readthedocs.io/en/latest/pynpoint.core.html?highlight=Pypeline#pynpoint.core.pypeline.Pypeline) to access the datasets and attributes that are stored in the database. For example, we can use the [get_shape](https://pynpoint.readthedocs.io/en/latest/pynpoint.core.html?highlight=Pypeline#pynpoint.core.dataio.InputPort.get_shape) method to check the shape of the *residuals* dataset that was stored by the `PcaPsfSubtractionModule`. The dataset contains 1 image since we ran the PSF subtraction only with 20 principal components."
   ]
  },
  {
   "cell_type": "code",
   "execution_count": 17,
   "metadata": {},
   "outputs": [
    {
     "data": {
      "text/plain": [
       "(1, 67, 67)"
      ]
     },
     "execution_count": 17,
     "metadata": {},
     "output_type": "execute_result"
    }
   ],
   "source": [
    "pipeline.get_shape('residuals')"
   ]
  },
  {
   "cell_type": "markdown",
   "metadata": {},
   "source": [
    "Next, we use the [get_data](https://pynpoint.readthedocs.io/en/latest/pynpoint.core.html?highlight=Pypeline#pynpoint.core.pypeline.Pypeline.get_data) method to read the median-collapsed residuals of the PSF subtraction."
   ]
  },
  {
   "cell_type": "code",
   "execution_count": 18,
   "metadata": {},
   "outputs": [],
   "source": [
    "residuals = pipeline.get_data('residuals')"
   ]
  },
  {
   "cell_type": "markdown",
   "metadata": {},
   "source": [
    "We will also extract the pixel scale, which is stored as the `PIXSCALE` attribute of the dataset, by using the [get_attribute](https://pynpoint.readthedocs.io/en/latest/pynpoint.core.html?highlight=Pypeline#pynpoint.core.pypeline.Pypeline.get_attribute) method."
   ]
  },
  {
   "cell_type": "code",
   "execution_count": 19,
   "metadata": {},
   "outputs": [
    {
     "name": "stdout",
     "output_type": "stream",
     "text": [
      "Pixel scale = 420.0 mas\n"
     ]
    }
   ],
   "source": [
    "pixscale = pipeline.get_attribute('residuals', 'PIXSCALE')\n",
    "print(f'Pixel scale = {pixscale*1e3} mas')"
   ]
  },
  {
   "cell_type": "markdown",
   "metadata": {},
   "source": [
    "## Plotting the residuals"
   ]
  },
  {
   "cell_type": "markdown",
   "metadata": {},
   "source": [
    "Finally, let's have a look at the residuals of the PSF subtraction. For simplicity, we define the image size in arcseconds."
   ]
  },
  {
   "cell_type": "code",
   "execution_count": 20,
   "metadata": {},
   "outputs": [
    {
     "name": "stdout",
     "output_type": "stream",
     "text": [
      "14.07\n"
     ]
    }
   ],
   "source": [
    "size = pixscale * residuals.shape[-1]/2.\n",
    "print(size)"
   ]
  },
  {
   "cell_type": "markdown",
   "metadata": {},
   "source": [
    "And plot the first image of the *residuals* dataset with `matplotlib`."
   ]
  },
  {
   "cell_type": "code",
   "execution_count": 21,
   "metadata": {},
   "outputs": [
    {
     "name": "stdout",
     "output_type": "stream",
     "text": [
      "(67, 67)\n"
     ]
    }
   ],
   "source": [
    "print(residuals[0, ].shape)"
   ]
  },
  {
   "cell_type": "code",
   "execution_count": 22,
   "metadata": {
    "scrolled": false
   },
   "outputs": [
    {
     "data": {
      "image/png": "[encoded data removed]",
      "text/plain": [
       "<Figure size 360x360 with 2 Axes>"
      ]
     },
     "metadata": {
      "needs_background": "light"
     },
     "output_type": "display_data"
    }
   ],
   "source": [
    "plt.figure (figsize=[5,5])\n",
    "plt.imshow(residuals[0, ], origin='lower', extent=[size, -size, -size, size])\n",
    "plt.xlabel('RA offset (arcsec)', fontsize=14)\n",
    "plt.ylabel('Dec offset (arcsec)', fontsize=14)\n",
    "cb = plt.colorbar()\n",
    "cb.set_label('Flux (ADU)', size=14.)"
   ]
  },
  {
   "cell_type": "code",
   "execution_count": null,
   "metadata": {},
   "outputs": [],
   "source": []
  }
 ],
 "metadata": {
  "kernelspec": {
   "display_name": "Python 3",
   "language": "python",
   "name": "python3"
  },
  "language_info": {
   "codemirror_mode": {
    "name": "ipython",
    "version": 3
   },
   "file_extension": ".py",
   "mimetype": "text/x-python",
   "name": "python",
   "nbconvert_exporter": "python",
   "pygments_lexer": "ipython3",
   "version": "3.7.6"
  }
 },
 "nbformat": 4,
 "nbformat_minor": 4
}
